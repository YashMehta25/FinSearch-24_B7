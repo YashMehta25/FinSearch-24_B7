{
  "nbformat": 4,
  "nbformat_minor": 0,
  "metadata": {
    "colab": {
      "provenance": []
    },
    "kernelspec": {
      "name": "python3",
      "display_name": "Python 3"
    },
    "language_info": {
      "name": "python"
    }
  },
  "cells": [
    {
      "cell_type": "code",
      "source": [
        "import yfinance as yf\n",
        "import pandas as pd\n",
        "\n",
        "# List of tickers\n",
        "tickers =  [\n",
        "  \"ARE\", \"EQIX\", \"HSIC\", \"IBM\", \"MHK\", \"ORCL\", \"PANW\", \"PFG\", \"SPG\", \"UDR\", \"XOM\", \"OXY\", \"GE\", \"BA\", \"TDG\", \"A\",\n",
        "  \"ADP\", \"CSCO\", \"GPC\", \"LRCX\", \"NVDA\", \"MMM\", \"MRO\", \"PWR\", \"CVX\", \"WFC\", \"CAT\", \"CTRA\", \"EQT\", \"TSN\", \"GD\", \"PSX\",\n",
        "  \"APA\", \"ATO\", \"FTV\", \"COP\", \"EOG\", \"META\", \"DVN\", \"TXT\", \"KHC\", \"MOS\", \"ADBE\", \"EA\", \"HST\", \"MTD\", \"MAA\", \"MSI\",\n",
        "  \"NDAQ\", \"PSA\", \"SPGI\", \"WELL\", \"HES\", \"TRGP\", \"BG\", \"NUE\", \"STLD\", \"SO\", \"UHS\", \"VLO\", \"ADM\", \"MCHP\", \"NRG\", \"MO\",\n",
        "  \"FCX\", \"PPL\", \"CAG\", \"FMC\", \"PNW\", \"AMZN\", \"MPC\", \"SNA\", \"LUV\", \"SJM\", \"DAL\", \"LMT\", \"PCG\", \"USB\", \"AMAT\", \"BWA\",\n",
        "  \"BXP\", \"COR\", \"DLR\", \"ESS\", \"HD\", \"TMO\", \"TRMB\", \"VTR\", \"ABBV\", \"HRL\", \"MLM\", \"DTE\", \"PH\", \"TFX\", \"CF\", \"C\", \"DPZ\",\n",
        "  \"IEX\", \"JPM\", \"MNST\", \"SHW\", \"VMC\", \"CNP\", \"HCA\", \"HON\", \"UAL\", \"DD\", \"GM\", \"K\", \"KMB\", \"PM\", \"PG\", \"QRVO\", \"BAC\",\n",
        "  \"BBWI\", \"EMR\", \"SYK\", \"SWKS\", \"EXPE\", \"PCAR\", \"APD\", \"BALL\", \"CDNS\", \"KMX\", \"DHR\", \"EQR\", \"LOW\", \"ORLY\", \"REG\", \"DRI\",\n",
        "  \"EIX\", \"NOC\", \"WEC\", \"AEE\", \"PEG\", \"DUK\", \"RJF\", \"AES\", \"ETR\", \"ALB\", \"D\", \"MTB\", \"RMD\", \"XEL\", \"AAL\", \"AEP\", \"CE\",\n",
        "  \"CL\", \"DOV\", \"MKC\", \"MCD\", \"NI\", \"NCLH\", \"PNC\", \"HSY\", \"ZBH\", \"CINF\", \"HAL\", \"WYNN\", \"AOS\", \"FE\", \"GS\", \"LEN\", \"EL\",\n",
        "  \"CMA\", \"EMN\", \"ITW\", \"OKE\", \"PPG\", \"SWK\", \"TSLA\", \"WMT\", \"AMT\", \"AZO\", \"ELV\", \"FRT\", \"HPQ\", \"KIM\", \"LKQ\", \"NWSA\",\n",
        "  \"SBAC\", \"WDC\", \"HOLX\", \"NDSN\", \"ABT\", \"CHTR\", \"STZ\", \"FAST\", \"INCY\", \"MGM\", \"SBUX\", \"CCL\", \"IP\", \"MS\", \"PFE\", \"TMUS\",\n",
        "  \"GOOGL\", \"AIG\", \"LLY\", \"AIZ\", \"DXCM\", \"JNJ\", \"STT\", \"AME\", \"T\", \"BDX\", \"ED\", \"NSC\", \"NTRS\", \"BAX\", \"CB\", \"SRE\", \"BX\",\n",
        "  \"CPB\", \"CFG\", \"UNP\", \"WAB\", \"BSX\", \"CMCSA\", \"COST\", \"EFX\", \"NEE\", \"SCHW\", \"ADI\", \"GILD\", \"ACN\", \"APTV\", \"AVB\", \"CCI\",\n",
        "  \"HPE\", \"PLD\", \"RHI\", \"CI\", \"IPG\", \"BMY\", \"EXC\", \"IFF\", \"IVZ\", \"MDT\", \"VRTX\", \"ACGL\", \"COF\", \"DVA\", \"DFS\", \"HUM\",\n",
        "  \"ON\", \"BIIB\", \"F\", \"MAS\", \"AMGN\", \"CSGP\", \"CSX\", \"CVS\", \"MDLZ\", \"PNR\", \"PEP\", \"ALL\", \"ALLE\", \"CLX\", \"CMS\", \"KO\",\n",
        "  \"HBAN\", \"WRB\", \"WMB\", \"AWK\", \"J\", \"KEY\", \"MAR\", \"MRK\", \"PHM\", \"LNT\", \"AJG\", \"TAP\", \"DGX\", \"KR\", \"VRSN\", \"CBOE\", \"DHI\",\n",
        "  \"GIS\", \"ISRG\", \"MMC\", \"BK\", \"GPN\", \"LYB\", \"RSG\", \"RCL\", \"BRK-B\", \"BRO\", \"CMG\", \"GRMN\", \"NEM\", \"ROP\", \"TXN\", \"CBRE\",\n",
        "  \"CDW\", \"STX\", \"AMP\", \"GL\", \"NVR\", \"SLB\", \"TRV\", \"AVGO\", \"CNC\", \"DE\", \"DLTR\", \"PGR\", \"PRU\", \"YUM\", \"CHD\", \"ECL\", \"FDX\",\n",
        "  \"FI\", \"HUBB\", \"ICE\", \"LH\", \"NKE\", \"NXPI\", \"APH\", \"CHRW\", \"ROL\", \"BKNG\", \"CMI\", \"IQV\", \"FTNT\", \"IT\", \"INTC\", \"KMI\",\n",
        "  \"PTC\", \"AXP\", \"EW\", \"ES\", \"JKHY\", \"IDXX\", \"ILMN\", \"LVS\", \"PKG\", \"UPS\", \"VZ\", \"WTW\", \"ZTS\", \"AFL\", \"FDS\", \"BEN\", \"BLK\",\n",
        "  \"CTAS\", \"MU\", \"REGN\", \"ROST\", \"XYL\", \"CME\", \"ETN\", \"EG\", \"PYPL\", \"HAS\", \"KEYS\", \"DG\", \"EBAY\", \"FIS\", \"HLT\", \"LDOS\",\n",
        "  \"ROK\", \"COO\", \"VRSK\", \"AAPL\", \"BIO\", \"FFIV\", \"KLAC\", \"SYF\", \"AKAM\", \"FITB\", \"GEN\", \"LULU\", \"MA\", \"RF\", \"TROW\", \"TER\",\n",
        "  \"URI\", \"ANET\", \"ADSK\", \"BR\", \"GLW\", \"EXPD\", \"PAYX\", \"RVTY\", \"NOW\", \"HIG\", \"V\", \"WM\", \"WY\", \"INTU\", \"L\", \"MET\", \"MSCI\",\n",
        "  \"NFLX\", \"OMC\", \"WBA\", \"ANSS\", \"AVY\", \"BBY\", \"CPT\", \"CPRT\", \"MCO\", \"SYY\", \"TSCO\", \"GWW\", \"O\", \"DIS\", \"ULTA\", \"EXR\",\n",
        "  \"MCK\", \"NTAP\", \"QCOM\", \"TT\", \"UNH\", \"CAH\", \"JBHT\", \"JNPR\", \"MSFT\", \"PARA\", \"CRM\", \"TPR\", \"TEL\", \"CTSH\", \"IRM\", \"JCI\",\n",
        "  \"RL\", \"SNPS\", \"TGT\", \"TJX\", \"WAT\"\n",
        "]\n",
        "\n",
        "\n",
        "data = []\n",
        "\n",
        "for ticker in tickers:\n",
        "    try:\n",
        "        stock = yf.Ticker(ticker)\n",
        "        hist = stock.history(period=\"1y\")\n",
        "\n",
        "        # Calculate the percentage change over 1 year\n",
        "        if not hist.empty:\n",
        "            start_price = hist['Close'][0]\n",
        "            end_price = hist['Close'][-1]\n",
        "            performance = ((end_price - start_price) / start_price) * 100\n",
        "            data.append([ticker, performance])\n",
        "        else:\n",
        "            data.append([ticker, None])\n",
        "    except Exception as e:\n",
        "        print(f\"Error fetching data for {ticker}: {e}\")\n",
        "        data.append([ticker, None])\n",
        "\n",
        "# Create a DataFrame\n",
        "df = pd.DataFrame(data, columns=[\"Ticker\", \"1-Year Performance (%)\"])\n",
        "df.to_csv(\"holistic_dataset_performance.csv\", index=False)\n",
        "print(\"Data saved to holistic_dataset_performance.csv\")\n"
      ],
      "metadata": {
        "colab": {
          "base_uri": "https://localhost:8080/"
        },
        "id": "cO7fHsGtOaaU",
        "outputId": "c95d9d7d-11fa-4467-ac9d-3396845301c1"
      },
      "execution_count": null,
      "outputs": [
        {
          "output_type": "stream",
          "name": "stdout",
          "text": [
            "Data saved to holistic_dataset_performance.csv\n"
          ]
        }
      ]
    }
  ]
}